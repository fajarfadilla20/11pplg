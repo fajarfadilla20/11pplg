{
  "nbformat": 4,
  "nbformat_minor": 0,
  "metadata": {
    "colab": {
      "provenance": [],
      "authorship_tag": "ABX9TyMLq8ioMhc1JLUCKD2f1myr",
      "include_colab_link": true
    },
    "kernelspec": {
      "name": "python3",
      "display_name": "Python 3"
    },
    "language_info": {
      "name": "python"
    }
  },
  "cells": [
    {
      "cell_type": "markdown",
      "metadata": {
        "id": "view-in-github",
        "colab_type": "text"
      },
      "source": [
        "<a href=\"https://colab.research.google.com/github/fajarfadilla20/11pplg/blob/main/Variable.ipynb\" target=\"_parent\"><img src=\"https://colab.research.google.com/assets/colab-badge.svg\" alt=\"Open In Colab\"/></a>"
      ]
    },
    {
      "cell_type": "markdown",
      "source": [
        "\n",
        "\n",
        "```\n",
        "# Variable\n",
        "Sesuai dengan namanya, variable adalah sesuatu yang dapat berubah. Variabel ini digunakan untuk merujuk menuju lokasi memori oleh program komputer.\n",
        "Pada sebagian besar bahasa lain, Anda perlu menetapkan tipe data terhadap suatu variabel. Namun, hal itu tidak perlu dilakukan pada bahasa pemrograman python. Sebagai contoh, jika Anda menulis program dengan menggunakan bahasa C, maka sintaks yang harus anda tulis adalah int num = 39; Dengan Python Anda hanya cukup menuliskan num = 39.\n",
        "Untuk memeriksanya, Anda dapat membuka Jupyter notebook atau Python Shell, lalu lakukan langkah demi langkah perintah di bawah ini:\n",
        "```\n",
        "```\n",
        "**INTEGER**\n",
        "\n",
        "Integer adalah angka numerik yang dapat berupa nilai positif, negatif, atau nol tanpa memiliki angka desimal\n",
        "```\n",
        "\n"
      ],
      "metadata": {
        "id": "ncjZatujAJB9"
      }
    },
    {
      "cell_type": "code",
      "execution_count": null,
      "metadata": {
        "id": "pkuF7GHqACiP"
      },
      "outputs": [],
      "source": [
        "num = 39\n",
        "print(num)\n",
        "type(num)"
      ]
    },
    {
      "cell_type": "markdown",
      "source": [
        "**FLOAT**\n",
        "\n",
        "Float adalah angka numerik sama seperti integer , namun ada sedikit perbedaan, yaitu adanya angka desimal\n",
        "\n",
        "\n",
        "```\n",
        "# num = 39.0\n",
        "print(num)\n",
        "39.0\n",
        "type(num)\n",
        "```\n"
      ],
      "metadata": {
        "id": "03gXXVFeByMj"
      }
    },
    {
      "cell_type": "code",
      "source": [
        "num = 39.0\n",
        "print(num)\n",
        "type(num)"
      ],
      "metadata": {
        "id": "5NMtj-DIBxqA"
      },
      "execution_count": null,
      "outputs": []
    },
    {
      "cell_type": "markdown",
      "source": [
        "**STRING**\n",
        "\n",
        "String adalah kumpulan beberapa karakter atau integer. String tersebut direpresentasikan dengan menggunakan tanda quotes (double ataupun single).\n",
        "test = \"Hallo semua\"\n",
        "\n",
        "\n",
        "```\n",
        "# test = \"Hallo semua\"\n",
        "print(test )\n",
        "Hallo semua\n",
        "type(test )\n",
        "<class 'str'>\n",
        "```\n"
      ],
      "metadata": {
        "id": "HuLkdwY7Bm5a"
      }
    },
    {
      "cell_type": "code",
      "source": [
        "test = \"Hallo semua\"\n",
        "print(test )\n",
        "type(test )"
      ],
      "metadata": {
        "id": "ADJa6VJkCnTJ"
      },
      "execution_count": null,
      "outputs": []
    },
    {
      "cell_type": "markdown",
      "source": [
        "**BOLEAN**\n",
        "\n",
        "Boolean\n",
        "Boolean adalah operator biner yang hanya memiliki dua nilai output yaitu True atau False.\n",
        "\n",
        "\n",
        "```\n",
        "# anda_robot = False\n",
        "print(anda_robot)\n",
        "False\n",
        "type(anda_robot)\n",
        "<class 'bool'>\n",
        "```\n",
        "\n"
      ],
      "metadata": {
        "id": "WUL6mGcxEkOe"
      }
    },
    {
      "cell_type": "code",
      "source": [
        "anda_robot = False\n",
        "print(anda_robot)\n",
        "False\n",
        "type(anda_robot)"
      ],
      "metadata": {
        "id": "jxVzFcpgE2h7"
      },
      "execution_count": null,
      "outputs": []
    },
    {
      "cell_type": "markdown",
      "source": [
        "**NoneType**\n",
        "\n",
        "NoneType digunakan ketika variable tidak memiliki nilai, seperti pada contoh di bawah ini:\n",
        "\n",
        "\n",
        "```\n",
        "#num = None\n",
        "print(num)\n",
        "None\n",
        "type(num)\n",
        "<class 'NoneType'>*\n",
        "```\n",
        "\n"
      ],
      "metadata": {
        "id": "KeCSL-DdE-cX"
      }
    },
    {
      "cell_type": "code",
      "source": [
        "num = None\n",
        "print(num)\n",
        "None\n",
        "type(num)"
      ],
      "metadata": {
        "id": "V0fxy3nAE-1n"
      },
      "execution_count": null,
      "outputs": []
    },
    {
      "cell_type": "markdown",
      "source": [
        "# **OPERATOR**\n",
        "Operator adalah simbol aritmatika pada bahasa pemrograman Python atau bahasa lainnya, untuk melihat seluruh operator yang tersedia pada Python Mari kita membahas satu per satu operator pada bahasa pemrograman python:\n",
        "\n",
        "**a.operator aritmatika**\n",
        "\n",
        "Operator yang akan kita bahas adalah penambahan, pengurangan, perkalian, eksponensial, modulus, dan pembagian. Mari kita lihat operasi aritmatika sederhana pada bahasa pemrograman Python.\n",
        "Pertama-tama kita akan mendeklarasikan dua variabel a dan b.\n",
        "\n",
        "\n",
        "```\n",
        "a = 6\n",
        "b = 2\n",
        "a + b # Penambahan\n",
        "8\n",
        "a - b # Pengurangan\n",
        "4\n",
        "a * b # Perkalian\n",
        "12\n",
        "a / b # Pembagian\n",
        "3.0\n",
        "a ** b # Eksponensial\n",
        "36\n",
        "```\n",
        "\n"
      ],
      "metadata": {
        "id": "yoO249HLFk34"
      }
    },
    {
      "cell_type": "code",
      "source": [
        "a = 7\n",
        "b = 3\n",
        "\n",
        "a + b # penjumlahan"
      ],
      "metadata": {
        "colab": {
          "base_uri": "https://localhost:8080/"
        },
        "id": "o1ZMaiN3GpFT",
        "outputId": "dcc2209a-9ff3-4004-8848-36acb041c926"
      },
      "execution_count": null,
      "outputs": [
        {
          "output_type": "execute_result",
          "data": {
            "text/plain": [
              "10"
            ]
          },
          "metadata": {},
          "execution_count": 9
        }
      ]
    },
    {
      "cell_type": "markdown",
      "source": [
        "**operaotr pembanding**\n",
        "\n",
        "Contoh operator pembanding adalah sama dengan, lebih besar dari, serta kurang dari.\n",
        "\n",
        "\n",
        "\n",
        "```\n",
        "a = 5\n",
        "b = 2\n",
        "a > b # Lebih besar\n",
        "True\n",
        "a < b # kurang dari\n",
        "False\n",
        "a == b # sama dengan\n",
        "False\n",
        "a >= 5 # lebih besar atau sama dengan\n",
        "True\n",
        "b <= 1 # lebih kecil atau sama dengan\n",
        "False\n",
        "```\n",
        "\n"
      ],
      "metadata": {
        "id": "kTMXQXBuHN2s"
      }
    },
    {
      "cell_type": "code",
      "source": [
        "a = 5\n",
        "b = 2\n",
        "a > b # Lebih besar\n",
        "True\n",
        "a < b # kurang dari\n",
        "False\n",
        "a == b # sama dengan\n",
        "False\n",
        "a >= 5 # lebih besar atau sama dengan\n",
        "True\n",
        "b <= 1 # lebih kecil atau sama dengan\n",
        "False"
      ],
      "metadata": {
        "colab": {
          "base_uri": "https://localhost:8080/"
        },
        "id": "IGeVCTc6HOjW",
        "outputId": "427f72ae-fe75-435d-f7cc-806c53588aea"
      },
      "execution_count": null,
      "outputs": [
        {
          "output_type": "execute_result",
          "data": {
            "text/plain": [
              "False"
            ]
          },
          "metadata": {},
          "execution_count": 15
        }
      ]
    },
    {
      "cell_type": "markdown",
      "source": [
        "**Operator Logika**\n",
        "\n",
        "Operator ini \"tidak termasuk\", \"dan\", \"dan atau\"\n",
        "\n",
        "\n",
        "```\n",
        "a = 10\n",
        "b = 2\n",
        "a == 2 and b == 10 # dan\n",
        "False\n",
        "a == 10 or b == 10 # atau\n",
        "True\n",
        "not(a == 10) # tidak\n",
        "False\n",
        "not(a == 2)\n",
        "True\n",
        "```\n",
        "\n"
      ],
      "metadata": {
        "id": "Bks8RrhbNpQR"
      }
    },
    {
      "cell_type": "code",
      "source": [
        "a = 10\n",
        "b = 2\n",
        "a == 2 and b == 10 # dan\n",
        "False\n",
        "a == 10 or b == 10 # atau\n",
        "True\n",
        "not(a == 10) # tidak\n",
        "False\n",
        "not(a == 2)\n",
        "True"
      ],
      "metadata": {
        "id": "Kx9aLR2uNptr"
      },
      "execution_count": null,
      "outputs": []
    },
    {
      "cell_type": "markdown",
      "source": [
        "# conditional statement\n",
        "\n",
        "Conditional statement digunakan untuk memeriksa suatu kondisi yang ditentukan sebelumnya apakah nilai nya True atau False.\n",
        "\n",
        "**Kondisi pertama**\n",
        "\n",
        "Kita memiliki suatu integer dan tiga kondisi. Yang pertama adalah kondisi if untuk mengecek apakah nomor tersebut sama dengan 10. Yang kedua adalah kondisi elif. Disini kita akan memeriksa apakah nomor tersebut kurang dari 10. Yang terakhir adalah kondisi else. Kondisi ini akan tereksekusi jika kedua kondisi sebelumnya tidak memenuhi syarat.\n",
        "```angka = 5\n",
        "if angka == 10:\n",
        "    print(\"angka adalah 10\")\n",
        "elif angka < 10:\n",
        "    print(\"angka adalah kurang dari 10\")\n",
        "else:\n",
        "    print(\"angka adalah lebih dari 10\")\n",
        "```"
      ],
      "metadata": {
        "id": "ujareH2AO30P"
      }
    },
    {
      "cell_type": "code",
      "source": [
        "angka = 5\n",
        "if angka == 10:\n",
        " print(\"angka adalah 10\")\n",
        "elif angka < 10:\n",
        " print(\"angka adalah kurang dari 10\")\n",
        "else:\n",
        " print(\"angka adalah lebih dari 10\")"
      ],
      "metadata": {
        "colab": {
          "base_uri": "https://localhost:8080/"
        },
        "id": "85-Ds_5ZOCBP",
        "outputId": "c97d7efc-f635-4771-b5b2-fd5af15f5327"
      },
      "execution_count": null,
      "outputs": [
        {
          "output_type": "stream",
          "name": "stdout",
          "text": [
            "angka adalah kurang dari 10\n"
          ]
        }
      ]
    },
    {
      "cell_type": "markdown",
      "source": [
        "**Kondisi kedua**\n",
        "\n",
        "Pada kasus ini kita akan memiliki variabel boolean dan dua kondisi. Pada contoh sebelumnya ketika kita membahas mengenai boolean apakah benar atau salah? Saat ini kita akan menggunakannya kembali pada conditional statement.\n",
        "Jika anda_robot, lalu print \"Ya, saya robot\", selain itu print \"bukan, saya manusia\".\n",
        "```\n",
        "anda_robot = False\n",
        "if anda_robot:\n",
        "    print (\"Ya, saya robot\")\n",
        "else:\n",
        "    print (\"bukan, saya manusia\")\n",
        "```"
      ],
      "metadata": {
        "id": "ssasZ_WQOsM8"
      }
    },
    {
      "cell_type": "code",
      "source": [
        "anda_robot = False\n",
        "if anda_robot:\n",
        " print (\"Ya, saya robot\")\n",
        "else:\n",
        " print (\"bukan, saya manusia\")"
      ],
      "metadata": {
        "colab": {
          "base_uri": "https://localhost:8080/"
        },
        "id": "KPkrndFAOs9a",
        "outputId": "941d165e-7a63-441e-a551-c6257183c2b9"
      },
      "execution_count": null,
      "outputs": [
        {
          "output_type": "stream",
          "name": "stdout",
          "text": [
            "bukan, saya manusia\n"
          ]
        }
      ]
    },
    {
      "cell_type": "markdown",
      "source": [
        "**kondisi ketiga**\n",
        "\n",
        "Pada contoh ini kita akan membuat kondisi berkebalikan dari kondisi kedua dengan operator not.\n",
        "\n"
      ],
      "metadata": {
        "id": "f3SgqZj2Kku0"
      }
    },
    {
      "cell_type": "code",
      "source": [
        "anda_robot = False\n",
        "if not anda_robot:\n",
        " print (\"Ya, saya robot\")\n",
        "else:\n",
        " print (\"bukan, saya manusia\")"
      ],
      "metadata": {
        "id": "wJnhy1u-KlgN"
      },
      "execution_count": null,
      "outputs": []
    },
    {
      "cell_type": "markdown",
      "source": [
        "**Kondisi ke empat**\n",
        "\n",
        " Disini kita akan mendeklarasikan data sebagai None, lalu memeriksanya jika data tersebut ada atau tidak."
      ],
      "metadata": {
        "id": "sua2h_3sOrtD"
      }
    },
    {
      "cell_type": "code",
      "source": [
        "data = None\n",
        "if data:\n",
        " print (\"data bukan none\")\n",
        "else:\n",
        " print (\"data adalah none\")"
      ],
      "metadata": {
        "id": "bbUZoHrbOsK7"
      },
      "execution_count": null,
      "outputs": []
    },
    {
      "cell_type": "markdown",
      "source": [
        "**Kondisi kelima** Anda pun dapat menggunakan if dalam satu baris pada bahasa pemrograman Python. Syntax nya akan terlihat seperti pada:\n"
      ],
      "metadata": {
        "id": "D_nd2UORPZ5q"
      }
    },
    {
      "cell_type": "code",
      "source": [
        "a = 10\n",
        "b = 5\n",
        "if a > b: print(\"a lebih besar dari b\")"
      ],
      "metadata": {
        "id": "ToA4cyzsPaZr"
      },
      "execution_count": null,
      "outputs": []
    },
    {
      "cell_type": "markdown",
      "source": [
        "\n",
        "#For loops\n",
        "Metode lain yang berguna dalam bahasa pemrograman Python adalah iterator. Hal ini sangat membantu jika Anda ingin melakukan sesuatu beberapa kali"
      ],
      "metadata": {
        "id": "VJDDtWDGP8Qr"
      }
    },
    {
      "cell_type": "code",
      "source": [
        "for i in range(3):\n",
        " print(\"Hai\")"
      ],
      "metadata": {
        "colab": {
          "base_uri": "https://localhost:8080/"
        },
        "id": "oLBh4APBP8uk",
        "outputId": "d565ec3e-c9d3-4763-81c7-fe565b1ba920"
      },
      "execution_count": null,
      "outputs": [
        {
          "output_type": "stream",
          "name": "stdout",
          "text": [
            "Hai\n",
            "Hai\n",
            "Hai\n"
          ]
        }
      ]
    },
    {
      "cell_type": "markdown",
      "source": [
        "Contoh lainnya jika kita ingin membuat rentang yang berbeda, maka kita dapat menggunakan\n",
        "```range(1,3)```"
      ],
      "metadata": {
        "id": "Um2hy-mqQrsg"
      }
    },
    {
      "cell_type": "code",
      "source": [
        "for i in range(1,3):\n",
        " print(\"Hai\")"
      ],
      "metadata": {
        "id": "LXBW-HONQsSX"
      },
      "execution_count": null,
      "outputs": []
    },
    {
      "cell_type": "markdown",
      "source": [
        "#While loops\n",
        "Dalam bahasa pemrograman Python, terdapat metode loop atau iterator yang lain, yaitu while loop. Kita pun dapat memberikan hasil yang sama seperti yang telah kita lakukan pada for loop dengan menggunakan while loop, seperti contoh di bawah ini:\n",
        "```i = 0\n",
        "while i < 3:\n",
        "  print(\"Angka\", i)\n",
        "  i += 1\n",
        "```"
      ],
      "metadata": {
        "id": "u8AFTrwJRqpP"
      }
    },
    {
      "cell_type": "code",
      "source": [
        "i = 0\n",
        "while i < 3:\n",
        " print(\"Angka\", i)\n",
        " i += 1"
      ],
      "metadata": {
        "colab": {
          "base_uri": "https://localhost:8080/"
        },
        "id": "mtvuHRcfRrDW",
        "outputId": "2423bff0-b838-4882-f5d3-bd5dfbc2ed92"
      },
      "execution_count": null,
      "outputs": [
        {
          "output_type": "stream",
          "name": "stdout",
          "text": [
            "Angka 0\n",
            "Angka 1\n",
            "Angka 2\n"
          ]
        }
      ]
    },
    {
      "cell_type": "markdown",
      "source": [
        "Cara lain untuk menghentikan loop adalah dengan menambahkan statement break di dalam while loop. Perintah ini akan menghentikan loop seperti pada contoh di bawah ini.\n",
        "```i = 0\n",
        "while i < 3:\n",
        "    if i == 3:\n",
        "           break\n",
        "    print(\"Angka\", i)\n",
        "    i += 1\n",
        "```"
      ],
      "metadata": {
        "id": "C0UykwZVR_x-"
      }
    },
    {
      "cell_type": "code",
      "source": [
        "while i < 3:\n",
        " if i == 3:\n",
        "        break\n",
        " print(\"Angka\", i)\n",
        " i += 1"
      ],
      "metadata": {
        "id": "FJYdm-vxSAJ-"
      },
      "execution_count": null,
      "outputs": []
    }
  ]
}