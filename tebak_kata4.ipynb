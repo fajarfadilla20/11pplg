{
  "nbformat": 4,
  "nbformat_minor": 0,
  "metadata": {
    "colab": {
      "provenance": [],
      "authorship_tag": "ABX9TyMNhy6RmybCreIaxPywhJFD",
      "include_colab_link": true
    },
    "kernelspec": {
      "name": "python3",
      "display_name": "Python 3"
    },
    "language_info": {
      "name": "python"
    }
  },
  "cells": [
    {
      "cell_type": "markdown",
      "metadata": {
        "id": "view-in-github",
        "colab_type": "text"
      },
      "source": [
        "<a href=\"https://colab.research.google.com/github/fajarfadilla20/11pplg/blob/main/tebak_kata4.ipynb\" target=\"_parent\"><img src=\"https://colab.research.google.com/assets/colab-badge.svg\" alt=\"Open In Colab\"/></a>"
      ]
    },
    {
      "cell_type": "code",
      "execution_count": null,
      "metadata": {
        "id": "YC6-WuWtghYx",
        "colab": {
          "base_uri": "https://localhost:8080/"
        },
        "outputId": "283d039f-8030-4104-83b4-9c6eae04cfa0"
      },
      "outputs": [
        {
          "output_type": "stream",
          "name": "stdout",
          "text": [
            "GAME TABAK KATA !\n",
            "hewan= kucing, tikus, kambing domba singa | buah = pisang, apel, mangga, durian | alat sekolah = tas,pensil, pulpen\n",
            "clue: dia adalah buah\n",
            "_ _ _ _ _ _ \n",
            "Tebakpisang\n",
            "Salah.Anda mempuyai 4 peluang lagi\n",
            "_ _ _ i a n \n",
            "Tebakpensil\n",
            "Salah.Anda mempuyai 3 peluang lagi\n",
            "_ _ _ i a n \n",
            "Tebakkambing\n",
            "Salah.Anda mempuyai 2 peluang lagi\n",
            "_ _ _ i a n \n",
            "Tebakmangga\n",
            "Salah.Anda mempuyai 1 peluang lagi\n",
            "_ _ _ i a n \n",
            "Tebakdurian\n",
            "d u r i a n \n",
            "SELAMAT,ANDA.MENANG. JAWABANNYA ADALAH durian\n",
            "Apa kamu ingin bermain lagi? Y or NY\n",
            "GAME TABAK KATA !\n",
            "hewan= kucing, tikus, kambing domba singa | buah = pisang, apel, mangga, durian | alat sekolah = tas,pensil, pulpen\n",
            "clue: dia adalah buah\n",
            "_ _ _ _ \n",
            "Tebakapel\n",
            "a p e l \n",
            "SELAMAT,ANDA.MENANG. JAWABANNYA ADALAH apel\n",
            "Apa kamu ingin bermain lagi? Y or NY\n",
            "GAME TABAK KATA !\n",
            "hewan= kucing, tikus, kambing domba singa | buah = pisang, apel, mangga, durian | alat sekolah = tas,pensil, pulpen\n",
            "clue: dia adalah buah\n",
            "_ _ _ _ _ _ \n",
            "Tebakpisang\n",
            "Salah.Anda mempuyai 4 peluang lagi\n",
            "_ a n g g a \n",
            "Tebakmangga\n",
            "m a n g g a \n",
            "SELAMAT,ANDA.MENANG. JAWABANNYA ADALAH mangga\n"
          ]
        }
      ],
      "source": [
        "import random\n",
        "\n",
        "animals = ['kucing', 'tikus', 'kambing', 'domba', 'singa']\n",
        "fruits  = ['pisang', 'apel', 'mangga', 'durian']\n",
        "stationery = ['tas','pensil', 'pulpen',]\n",
        "\n",
        "while 1:\n",
        "  words = animals + fruits + stationery\n",
        "  random_word = random.choice(words)\n",
        "  print('GAME TABAK KATA !')\n",
        "  print ('hewan= kucing, tikus, kambing domba singa | buah = pisang, apel, mangga, durian | alat sekolah = tas,pensil, pulpen')\n",
        "  if random_word in animals:\n",
        "    print('clue: dia adalah seekor hewan')\n",
        "  elif random_word in fruits:\n",
        "    print('clue: dia adalah buah')\n",
        "  else:\n",
        "    print('clue: dia adalah peralatan sekolah')\n",
        "\n",
        "  user_guesses = ''\n",
        "  chances = 5\n",
        "\n",
        "  while chances > 0:\n",
        "    wrong_guess = 0\n",
        "    for ch in random_word:\n",
        "      if ch in user_guesses:\n",
        "        print(ch, end = ' ')\n",
        "      else:\n",
        "        wrong_guess+=1\n",
        "        print('_', end = ' ')\n",
        "    if wrong_guess == 0:\n",
        "      print('\\nSELAMAT,ANDA.MENANG. JAWABANNYA ADALAH',random_word)\n",
        "      again = input('Apa kamu ingin bermain lagi? Y or N')\n",
        "      if again == 'Y':\n",
        "        break\n",
        "      else:\n",
        "        quit()\n",
        "\n",
        "\n",
        "    guess = input('\\nTebak')\n",
        "    user_guesses +=guess\n",
        "\n",
        "    if guess not in random_word:\n",
        "      chances-=1\n",
        "      print(f'Salah.Anda mempuyai {chances} peluang lagi')\n",
        "      if chances == 0:\n",
        "        print('Game over. KAMU KALAH. JAWABANNYA ADALAH', random_word)\n",
        "        restart = input('Apa kamu ingin bermain lagi? Y or N')\n",
        "        if restart == 'N':\n",
        "          quit()"
      ]
    },
    {
      "cell_type": "markdown",
      "source": [
        "# TUJUAN DI BUATNYA GAME\n",
        "\n",
        "**GAME INI DI BUAT UNTUK **\n",
        "\n",
        "\n",
        "Mengasah Kemampuan Bahasa dan Komunikasi Mengasah Kreativitas dan menggasah otak |menggasah konsentarsi |\n",
        "\n",
        "Bermain tebak-tebakan dapat mendukung pemecahan masalah, logika, dan keterampilan berpikir kritis . Bergulat dengan pertanyaan tebak-tebakan untuk jangka waktu tertentu dapat membantu konsentrasi, fokus, dan ketangkasan otak."
      ],
      "metadata": {
        "id": "UMPIT7fC8hdP"
      }
    },
    {
      "cell_type": "code",
      "source": [
        "import random\n",
        "\n",
        "animals = ['kucing', 'tikus', 'paus', 'ikan', 'burung']\n",
        "fruits  = ['pisang', 'apel', 'mangga', 'durian']\n",
        "stationery = ['tas','pensil', 'pulpen', 'tipe x', 'penghapus', 'buku tulis', 'buku paket', 'buku lks']\n",
        "\n",
        "while 1:\n",
        "  words = animals + fruits + stationery\n",
        "  random_word = random.choice(words)\n",
        "  print('GAME TABAK KATA !')\n",
        "  print('DI Bawah Ini Ada Contekan Untuk menjawab Tebak Kata')\n",
        "  print('Nama-Nama Hewan: kucing, tikus, zebra, gajah, singa, jerapah, ulat, kelinci, hamster, semut, ayam, tupai, cicak, bunglon, bebek')\n",
        "  print('Nama-Nama Buah: pisang, semangka, melon, apel, salak, pear, anggur, strawberry, duku, rambutan, mangga')\n",
        "  print('Nama-Nama Peralatan Sekolah: tas, pensil, pulpen tipe x, penghapus, buku tulis, buku paket, buku lks')\n",
        "  if random_word in animals:\n",
        "    print('clue: dia adalah seekor hewan')\n",
        "  elif random_word in fruits:\n",
        "    print('clue: dia adalah buah')\n",
        "  else:\n",
        "    print('clue: dia adalah peralatan sekolah')\n",
        "\n",
        "  user_guesses = ''\n",
        "  chances = 5\n",
        "  while chances > 0:\n",
        "    wrong_guess = 0\n",
        "    for ch in random_word:\n",
        "      if ch in user_guesses:\n",
        "        print(ch, end = ' ')\n",
        "      else:\n",
        "        wrong_guess+=1\n",
        "        print('_', end = ' ')\n",
        "    if wrong_guess == 0:\n",
        "      print('\\nCongrats,you.won. The word is',random_word)\n",
        "      again = input('Apa kamu ingin bermain lagi? Y or N')\n",
        "      if again == 'Y':\n",
        "        break\n",
        "      else:\n",
        "        quit()\n",
        "\n",
        "\n",
        "    guess = input('\\nMake a guess')\n",
        "    user_guesses +=guess\n",
        "\n",
        "    if guess not in random_word:\n",
        "      chances-=1\n",
        "      print(f'Wrong.you have {chances} more chances')\n",
        "      if chances == 0:\n",
        "        print('Game over. You Lose. The Word is',random_word)\n",
        "        restart = input('Apa kamu ingin bermain lagi? Y or N')\n",
        "        if restart == 'N':\n",
        "          quit()"
      ],
      "metadata": {
        "id": "sss6WvIMelEJ"
      },
      "execution_count": null,
      "outputs": []
    }
  ]
}